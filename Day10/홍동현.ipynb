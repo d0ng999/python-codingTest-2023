{
 "cells": [
  {
   "attachments": {},
   "cell_type": "markdown",
   "metadata": {},
   "source": [
    "## 1번 문제\n",
    "\n",
    "프로그래머스 Lev1. 카드 뭉치 "
   ]
  },
  {
   "cell_type": "code",
   "execution_count": 3,
   "metadata": {},
   "outputs": [
    {
     "name": "stdout",
     "output_type": "stream",
     "text": [
      "Yes\n",
      "No\n"
     ]
    }
   ],
   "source": [
    "def solution1(cards1, cards2, goal):\n",
    "    for i in range(len(goal)):\n",
    "        if goal[i] in cards1:\n",
    "            goal2.append(cards1[0])\n",
    "            del cards1[0]\n",
    "        elif goal[i] in cards2:\n",
    "            goal2.append(cards2[0])\n",
    "            del cards2[0]\n",
    "    \n",
    "    if goal == goal2:\n",
    "        answer = 'Yes'\n",
    "    else:\n",
    "        answer = 'No'\n",
    "    return answer\n",
    "    \n",
    "\n",
    "cards1 = [\"i\", \"drink\", \"water\"]\n",
    "cards2 = [\"want\", \"to\"]\n",
    "goal = [\"i\", \"want\", \"to\", \"drink\", \"water\"]\n",
    "goal2 = []\n",
    "\n",
    "print(solution1(cards1, cards2, goal)) # return Yes\n",
    "\n",
    "cards1 = [\"i\", \"water\", \"drink\"]\n",
    "cards2 = [\"want\", \"to\"]\n",
    "goal = [\"i\", \"want\", \"to\", \"drink\", \"water\"]\n",
    "goal2 = []\n",
    "\n",
    "print(solution1(cards1, cards2, goal)) # return No"
   ]
  },
  {
   "attachments": {},
   "cell_type": "markdown",
   "metadata": {},
   "source": [
    "## 2번 문제\n",
    "\n",
    "프로그래머스 Lev1. 체육복"
   ]
  },
  {
   "cell_type": "code",
   "execution_count": 2,
   "metadata": {},
   "outputs": [
    {
     "name": "stdout",
     "output_type": "stream",
     "text": [
      "5\n",
      "5\n",
      "2\n"
     ]
    }
   ],
   "source": [
    "def solution2(n, lost, reserve):\n",
    "    A = [1]*(n+1)\n",
    "    A[0] = 0\n",
    "    for i in lost:\n",
    "        A[i] -= 1\n",
    "    for i in reserve:\n",
    "        A[i] += 1\n",
    "    \n",
    "    for i in range(1, n+1):\n",
    "        if i == 1:\n",
    "            if A[i] == 2 and A[i+1] == 0:\n",
    "                A[i] -=1\n",
    "                A[i+1] +=1\n",
    "        elif i == n:\n",
    "            if A[i] == 2 and A[i-1] == 0:\n",
    "                A[i] -=1\n",
    "                A[i-1] +=1\n",
    "        else:\n",
    "            if A[i] == 2 and A[i-1] == 0:\n",
    "                A[i-1] +=1\n",
    "                A[i]-=1\n",
    "            elif A[i] == 2 and A[i+1] == 0:\n",
    "                A[i+1]+=1\n",
    "                A[i]-=1\n",
    "    answer = 0\n",
    "    for i in A:\n",
    "        if i >=1:\n",
    "            answer+=1\n",
    "\n",
    "    return answer\n",
    "\n",
    "n = 5\n",
    "lost = [2, 4]\n",
    "reserve = [1,3,5]\n",
    "\n",
    "print(solution2(n, lost, reserve)) # return 5\n",
    "\n",
    "\n",
    "n = 5\n",
    "lost = [1,2,3,4,5]\n",
    "reserve = [1,5,3,4,2]\n",
    "\n",
    "print(solution2(n, lost, reserve)) # return 4\n",
    "\n",
    "\n",
    "n = 3\n",
    "lost = [3]\n",
    "reserve = [1]\n",
    "\n",
    "print(solution2(n, lost, reserve)) # return 2"
   ]
  }
 ],
 "metadata": {
  "kernelspec": {
   "display_name": "Python 3",
   "language": "python",
   "name": "python3"
  },
  "language_info": {
   "codemirror_mode": {
    "name": "ipython",
    "version": 3
   },
   "file_extension": ".py",
   "mimetype": "text/x-python",
   "name": "python",
   "nbconvert_exporter": "python",
   "pygments_lexer": "ipython3",
   "version": "3.11.1"
  },
  "orig_nbformat": 4,
  "vscode": {
   "interpreter": {
    "hash": "a3d8f53f1429d27b792a3789224562ddd32c1395c9a9cfbb17b3c19c3b9a493d"
   }
  }
 },
 "nbformat": 4,
 "nbformat_minor": 2
}
