{
 "cells": [
  {
   "attachments": {},
   "cell_type": "markdown",
   "metadata": {},
   "source": [
    "### 트리 구조"
   ]
  },
  {
   "cell_type": "code",
   "execution_count": 1,
   "metadata": {},
   "outputs": [],
   "source": [
    "class TreeNode:\n",
    "    def __init__(self) -> None:\n",
    "        self.left = None\n",
    "        self.data = None\n",
    "        self.right = None\n"
   ]
  },
  {
   "attachments": {},
   "cell_type": "markdown",
   "metadata": {},
   "source": [
    "#### 트리 구성"
   ]
  },
  {
   "cell_type": "code",
   "execution_count": 17,
   "metadata": {},
   "outputs": [],
   "source": [
    "node1 = TreeNode() # 뿌리 노드\n",
    "node1.data = '화사'\n",
    "\n",
    "node2 = TreeNode()  # 뿌리노드의 자식노드1인데 왼쪽\n",
    "node2.data = '솔라'\n",
    "node1.left = node2\n",
    "\n",
    "node3 = TreeNode() # 뿌리노드의 자식노드2인데 오른쪽\n",
    "node3.data = '문별'\n",
    "node1.right = node3\n",
    "\n",
    "node4 = TreeNode() # 자식노드 1의 자식노드인데 외쪽\n",
    "node4.data = '휘인'\n",
    "node2.left = node4\n",
    "\n",
    "node5 = TreeNode() # 자식노드 1의 자식노드인데 오른쪽\n",
    "node5.data = '쯔위'\n",
    "node2.right = node5\n",
    "\n",
    "node6 = TreeNode() # 자식노드 2의 자식노드인데 왼쪽\n",
    "node6.data = '선미'\n",
    "node3.left = node6\n"
   ]
  },
  {
   "cell_type": "code",
   "execution_count": 18,
   "metadata": {},
   "outputs": [
    {
     "name": "stdout",
     "output_type": "stream",
     "text": [
      "화사\n",
      "｜          ＼\n",
      "솔라         문별\n",
      "｜ ＼         ｜\n",
      "휘인 쯔위    선미\n"
     ]
    }
   ],
   "source": [
    "print(node1.data)\n",
    "print('｜          ＼')\n",
    "print(node1.left.data,   '       '  ,node1.right.data)\n",
    "print('｜ ＼         ｜')\n",
    "print(node1.left.left.data, node1.left.right.data, '  ', node1.right.left.data)"
   ]
  },
  {
   "attachments": {},
   "cell_type": "markdown",
   "metadata": {},
   "source": [
    "### 트리(!!) - 순회 Traversal\n",
    "\n",
    "#### 전위 순회 Preoder, 중위 순회 Inorder, 후위 순회 Postorder"
   ]
  },
  {
   "cell_type": "code",
   "execution_count": 19,
   "metadata": {},
   "outputs": [],
   "source": [
    "def preorder(node): # 뿌리노드가 가장 먼저 나옴\n",
    "    if node == None:\n",
    "        return\n",
    "    \n",
    "    print(node.data, end = ' -> ')\n",
    "    preorder(node.left) # 재귀호출(Recursive call)\n",
    "    preorder(node.right)"
   ]
  },
  {
   "cell_type": "code",
   "execution_count": 20,
   "metadata": {},
   "outputs": [
    {
     "name": "stdout",
     "output_type": "stream",
     "text": [
      "화사 -> 솔라 -> 휘인 -> 쯔위 -> 문별 -> 선미 -> "
     ]
    }
   ],
   "source": [
    "preorder(node1)"
   ]
  },
  {
   "cell_type": "code",
   "execution_count": 21,
   "metadata": {},
   "outputs": [],
   "source": [
    "def inorder(node): # 뿌리노드가 중앙에 나옴\n",
    "    if node == None:\n",
    "        return\n",
    "    \n",
    "    inorder(node.left)  \n",
    "    print(node.data, end = ' -> ')\n",
    "    inorder(node.right)"
   ]
  },
  {
   "cell_type": "code",
   "execution_count": 22,
   "metadata": {},
   "outputs": [
    {
     "name": "stdout",
     "output_type": "stream",
     "text": [
      "휘인 -> 솔라 -> 쯔위 -> 화사 -> 선미 -> 문별 -> "
     ]
    }
   ],
   "source": [
    "inorder(node1)"
   ]
  },
  {
   "cell_type": "code",
   "execution_count": 23,
   "metadata": {},
   "outputs": [],
   "source": [
    "def postorder(node): # 뿌리노드가 가장 마지막에 나옴\n",
    "    if node == None:\n",
    "        return\n",
    "    \n",
    "    postorder(node.left)  \n",
    "    postorder(node.right)\n",
    "    print(node.data, end = ' -> ')"
   ]
  },
  {
   "cell_type": "code",
   "execution_count": 24,
   "metadata": {},
   "outputs": [
    {
     "name": "stdout",
     "output_type": "stream",
     "text": [
      "휘인 -> 쯔위 -> 솔라 -> 선미 -> 문별 -> 화사 -> "
     ]
    }
   ],
   "source": [
    "postorder(node1)"
   ]
  }
 ],
 "metadata": {
  "kernelspec": {
   "display_name": "Python 3",
   "language": "python",
   "name": "python3"
  },
  "language_info": {
   "codemirror_mode": {
    "name": "ipython",
    "version": 3
   },
   "file_extension": ".py",
   "mimetype": "text/x-python",
   "name": "python",
   "nbconvert_exporter": "python",
   "pygments_lexer": "ipython3",
   "version": "3.11.1"
  },
  "orig_nbformat": 4,
  "vscode": {
   "interpreter": {
    "hash": "a3d8f53f1429d27b792a3789224562ddd32c1395c9a9cfbb17b3c19c3b9a493d"
   }
  }
 },
 "nbformat": 4,
 "nbformat_minor": 2
}
