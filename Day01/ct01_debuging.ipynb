{
 "cells": [
  {
   "attachments": {},
   "cell_type": "markdown",
   "metadata": {},
   "source": [
    "## 코딩테스트 중 실수 4가지\n",
    "### 결함이 있는 코드"
   ]
  },
  {
   "cell_type": "code",
   "execution_count": 11,
   "metadata": {},
   "outputs": [
    {
     "name": "stdout",
     "output_type": "stream",
     "text": [
      "1 = 97.0\n",
      "2 = 93.5\n",
      "3 = 1828.5\n"
     ]
    }
   ],
   "source": [
    "# 배열의 주어진 범위의 합을 2로 나눈 몫\n",
    "import random\n",
    "\n",
    "testcase = int(input())\n",
    "\n",
    "A = [0] * 100001 # 10만개의 리스트\n",
    "\n",
    "for i in range(100001): # 숫자 맞추기\n",
    "    A[i] = random.randrange(1, 101)\n",
    "\n",
    "for i in range(1, testcase+1):\n",
    "    answer = 0\n",
    "    start, end = map(int, input().split())\n",
    "\n",
    "    for t in range(start, end+1):\n",
    "        answer = answer + A[t]\n",
    "\n",
    "    print(f'{i} = {answer//2}') # 변수 실수! answer가 정수로 나올려면 /가 아닌 //"
   ]
  },
  {
   "attachments": {},
   "cell_type": "markdown",
   "metadata": {},
   "source": [
    "## 예외 1\n",
    "\n",
    "초기화 문제 해결\n",
    "\n",
    "## 예외 2\n",
    "\n",
    "배열 범위를 잘못입력\n",
    "\n",
    "## 예외 3\n",
    "\n",
    "변수를 잘못 이용 -> 결과가 다르게 나옴\n",
    "\n",
    "## 예외 4\n",
    "\n",
    "형변환때문에 실수로 나옴(정수를 원했지만)"
   ]
  }
 ],
 "metadata": {
  "kernelspec": {
   "display_name": "Python 3",
   "language": "python",
   "name": "python3"
  },
  "language_info": {
   "codemirror_mode": {
    "name": "ipython",
    "version": 3
   },
   "file_extension": ".py",
   "mimetype": "text/x-python",
   "name": "python",
   "nbconvert_exporter": "python",
   "pygments_lexer": "ipython3",
   "version": "3.11.1"
  },
  "orig_nbformat": 4,
  "vscode": {
   "interpreter": {
    "hash": "a3d8f53f1429d27b792a3789224562ddd32c1395c9a9cfbb17b3c19c3b9a493d"
   }
  }
 },
 "nbformat": 4,
 "nbformat_minor": 2
}
