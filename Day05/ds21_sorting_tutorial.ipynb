{
 "cells": [
  {
   "attachments": {},
   "cell_type": "markdown",
   "metadata": {},
   "source": [
    "### 선택정렬\n",
    "#### 최솟값 위치 확인 함수"
   ]
  },
  {
   "cell_type": "code",
   "execution_count": 1,
   "metadata": {},
   "outputs": [],
   "source": [
    "def findMinIdx(ary):\n",
    "    minIdx = 0\n",
    "    for i in range(1, len(ary)):\n",
    "        if (ary[minIdx]) > ary[i]: # 지정된 값이 배열에 현재값보다 크면 x\n",
    "            minIdx = i\n",
    "    \n",
    "    return minIdx\n"
   ]
  },
  {
   "cell_type": "code",
   "execution_count": 23,
   "metadata": {},
   "outputs": [
    {
     "name": "stdout",
     "output_type": "stream",
     "text": [
      "126\n"
     ]
    }
   ],
   "source": [
    "tests = [i for i in range(150, 23, -1)]\n",
    "\n",
    "print(findMinIdx(tests))"
   ]
  },
  {
   "attachments": {},
   "cell_type": "markdown",
   "metadata": {},
   "source": [
    "#### 선택정렬 전체"
   ]
  },
  {
   "cell_type": "code",
   "execution_count": 56,
   "metadata": {},
   "outputs": [
    {
     "name": "stdout",
     "output_type": "stream",
     "text": [
      "정렬전 --> [10, 9, 8, 7, 6, 5, 4, 3, 2, 1]\n",
      "정렬후 --> [1, 2, 3, 4, 5, 6, 7, 8, 9, 10]\n"
     ]
    }
   ],
   "source": [
    "# 변수선언\n",
    "before = [i for i in range(10,0,-1)]\n",
    "after = []\n",
    "\n",
    "print('정렬전 -->', before)\n",
    "\n",
    "for _ in range(len(before)):\n",
    "    minPos = findMinIdx(before)\n",
    "    after.append(before[minPos])\n",
    "    del(before[minPos]) # 최소값을 계속 삭제\n",
    "print('정렬후 -->', after)"
   ]
  },
  {
   "attachments": {},
   "cell_type": "markdown",
   "metadata": {},
   "source": [
    "#### 개선된 선택정렬\n",
    "\n",
    "배열을 두개씩 만들 필요가 없고, 값 교환 swap기능을 학습"
   ]
  },
  {
   "cell_type": "code",
   "execution_count": 37,
   "metadata": {},
   "outputs": [
    {
     "name": "stdout",
     "output_type": "stream",
     "text": [
      "[3, 5, 7, 9]\n"
     ]
    }
   ],
   "source": [
    "def selectionSort(ary):\n",
    "    n = len(ary)\n",
    "    for i in range(n-1):\n",
    "        minIdx = i\n",
    "        for k in range(i+1, n):\n",
    "            if ary[minIdx] > ary[k]:\n",
    "                minIdx = k\n",
    "        # temp = ary[i]\n",
    "        # ary[i] = ary[minIdx]\n",
    "        # ary[minIdx] = temp\n",
    "        ary[i], ary[minIdx] = ary[minIdx], ary[i] # 위의 3줄과 같지만 신식인 방법이다.\n",
    "    \n",
    "    return ary\n",
    "dataAry = [9, 5, 7, 3]\n",
    "\n",
    "dataAry = selectionSort(dataAry)\n",
    "\n",
    "print(dataAry)\n"
   ]
  },
  {
   "attachments": {},
   "cell_type": "markdown",
   "metadata": {},
   "source": [
    "#### 삽입정렬 Insertion Sort\n",
    "- 자신의 삽입위치를 찾는 함수"
   ]
  },
  {
   "cell_type": "code",
   "execution_count": 41,
   "metadata": {},
   "outputs": [],
   "source": [
    "# 이미 정렬된 배열의 경우에 해당됨\n",
    "def findInsertIdx(ary, data):\n",
    "    findIdx = -1\n",
    "    for i in range(len(ary)):\n",
    "        if ary[i] > data:\n",
    "            findIdx = i\n",
    "            break\n",
    "    if findIdx == -1: # 데이타를 못 찾은 경우\n",
    "        return len(ary)\n",
    "    else:\n",
    "        return findIdx"
   ]
  },
  {
   "cell_type": "code",
   "execution_count": 48,
   "metadata": {},
   "outputs": [
    {
     "name": "stdout",
     "output_type": "stream",
     "text": [
      "50이 들어갈 위치 0\n",
      "55가 들어갈 위치 4\n"
     ]
    }
   ],
   "source": [
    "testAry = []\n",
    "print('50이 들어갈 위치',findInsertIdx(testAry, 50))\n",
    "testAry = [33,44,50, 11]\n",
    "print('55가 들어갈 위치', findInsertIdx(testAry, 55))"
   ]
  },
  {
   "attachments": {},
   "cell_type": "markdown",
   "metadata": {},
   "source": [
    "#### 삽입정렬 개선"
   ]
  },
  {
   "cell_type": "code",
   "execution_count": 54,
   "metadata": {},
   "outputs": [
    {
     "name": "stdout",
     "output_type": "stream",
     "text": [
      "[1, 2, 3, 4, 5, 6, 7, 8, 9, 10]\n"
     ]
    }
   ],
   "source": [
    "def insertionSort(ary):\n",
    "    n = len(ary)\n",
    "    for end in range(1, n):\n",
    "        for cur in range(end, 0, -1):\n",
    "            if ary[cur-1] > ary[cur]:\n",
    "                ary[cur-1], ary[cur] = ary[cur], ary[cur-1]\n",
    "                # ^튜플을 이용한 방식으로 파이썬에서는 가능, swap기능\n",
    "    return ary\n",
    "\n",
    "dataAry = [i for i in range(10,0,-1)]\n",
    "dataAry = insertionSort(dataAry)\n",
    "print(dataAry)"
   ]
  },
  {
   "attachments": {},
   "cell_type": "markdown",
   "metadata": {},
   "source": [
    "#### 버블 정렬 (Bubble Sort)"
   ]
  },
  {
   "cell_type": "code",
   "execution_count": null,
   "metadata": {},
   "outputs": [
    {
     "name": "stdout",
     "output_type": "stream",
     "text": [
      "사이클#--> [190, 162, 168, 120, 20, 150, 177, 105]\n",
      "사이클#--> [162, 168, 120, 20, 150, 177, 105, 190]\n",
      "사이클#--> [162, 120, 20, 150, 168, 105, 177, 190]\n",
      "사이클#--> [120, 20, 150, 162, 105, 168, 177, 190]\n",
      "사이클#--> [20, 120, 150, 105, 162, 168, 177, 190]\n",
      "사이클#--> [20, 120, 105, 150, 162, 168, 177, 190]\n",
      "사이클#--> [20, 105, 120, 150, 162, 168, 177, 190]\n",
      "[20, 105, 120, 150, 162, 168, 177, 190]\n"
     ]
    }
   ],
   "source": [
    "def BubbleSort(ary):\n",
    "    n = len(ary)\n",
    "    for end in range(n-1, 0, -1): # n-1부터 0까지 역순\n",
    "        print('사이클#-->',ary)\n",
    "        for cur in range(0, end): # 0부터 n-2까지 반복\n",
    "            if ary[cur] > ary[cur+1]:\n",
    "                ary[cur], ary[cur+1] = ary[cur+1], ary[cur]\n",
    "\n",
    "    return ary\n",
    "\n",
    "dataAry = [190,162,168,120,20,150,177,105]\n",
    "dataAry = BubbleSort(dataAry)\n",
    "print(dataAry)"
   ]
  },
  {
   "cell_type": "code",
   "execution_count": null,
   "metadata": {},
   "outputs": [],
   "source": [
    "import random\n",
    "dataBank = []\n",
    "for i in range(0, 10000):\n",
    "    dataBank.append(random.randint(0,10000))\n",
    "\n",
    "dataBank"
   ]
  },
  {
   "attachments": {},
   "cell_type": "markdown",
   "metadata": {},
   "source": [
    "#### 퀵 정렬 (Quick Sort)"
   ]
  },
  {
   "cell_type": "code",
   "execution_count": 70,
   "metadata": {},
   "outputs": [
    {
     "name": "stdout",
     "output_type": "stream",
     "text": [
      "[20, 105, 120, 120, 150, 150, 162, 162, 168, 177, 190]\n"
     ]
    }
   ],
   "source": [
    "def quickSort(ary):\n",
    "    n = len(ary)\n",
    "    if n <=1: # 정렬갯수가 1개 이하라면@\n",
    "        return ary \n",
    "    \n",
    "    pivot = ary[n//2] # 중간값을 기준값으로 정한다.\n",
    "    leftAry, rightAry, midAry = [],[], []\n",
    "\n",
    "    for num in ary:\n",
    "        if num < pivot:\n",
    "            leftAry.append(num)\n",
    "        elif num > pivot:\n",
    "            rightAry.append(num)\n",
    "        else:\n",
    "            midAry.append(num) # 중복을 고려한 형태\n",
    "    return quickSort(leftAry) + midAry + quickSort(rightAry)\n",
    "\n",
    "dataAry = [190,162,168,120,120,150,20,150,162,177,105]\n",
    "dataAry = quickSort(dataAry)\n",
    "print(dataAry)"
   ]
  },
  {
   "attachments": {},
   "cell_type": "markdown",
   "metadata": {},
   "source": [
    "#### 리스트 정렬"
   ]
  },
  {
   "cell_type": "code",
   "execution_count": null,
   "metadata": {},
   "outputs": [],
   "source": [
    "import random\n",
    "dataBank = []\n",
    "for i in range(0, 10000):\n",
    "    dataBank.append(random.randint(0,10000))\n",
    "\n",
    "dataBank.sort()\n",
    "print(dataBank,end = ' ')\n"
   ]
  },
  {
   "cell_type": "markdown",
   "metadata": {},
   "source": []
  },
  {
   "cell_type": "code",
   "execution_count": null,
   "metadata": {},
   "outputs": [],
   "source": []
  }
 ],
 "metadata": {
  "kernelspec": {
   "display_name": "Python 3",
   "language": "python",
   "name": "python3"
  },
  "language_info": {
   "codemirror_mode": {
    "name": "ipython",
    "version": 3
   },
   "file_extension": ".py",
   "mimetype": "text/x-python",
   "name": "python",
   "nbconvert_exporter": "python",
   "pygments_lexer": "ipython3",
   "version": "3.11.1"
  },
  "orig_nbformat": 4,
  "vscode": {
   "interpreter": {
    "hash": "a3d8f53f1429d27b792a3789224562ddd32c1395c9a9cfbb17b3c19c3b9a493d"
   }
  }
 },
 "nbformat": 4,
 "nbformat_minor": 2
}
