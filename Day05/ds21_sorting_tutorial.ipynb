{
 "cells": [
  {
   "attachments": {},
   "cell_type": "markdown",
   "metadata": {},
   "source": [
    "### 선택정렬\n",
    "#### 최솟값 위치 확인 함수"
   ]
  },
  {
   "cell_type": "code",
   "execution_count": 1,
   "metadata": {},
   "outputs": [],
   "source": [
    "def findMinIdx(ary):\n",
    "    minIdx = 0\n",
    "    for i in range(1, len(ary)):\n",
    "        if (ary[minIdx]) > ary[i]: # 지정된 값이 배열에 현재값보다 크면 x\n",
    "            minIdx = i\n",
    "    \n",
    "    return minIdx\n"
   ]
  },
  {
   "cell_type": "code",
   "execution_count": 23,
   "metadata": {},
   "outputs": [
    {
     "name": "stdout",
     "output_type": "stream",
     "text": [
      "126\n"
     ]
    }
   ],
   "source": [
    "tests = [i for i in range(150, 23, -1)]\n",
    "\n",
    "print(findMinIdx(tests))"
   ]
  },
  {
   "attachments": {},
   "cell_type": "markdown",
   "metadata": {},
   "source": [
    "#### 선택정렬 전체"
   ]
  },
  {
   "cell_type": "code",
   "execution_count": 33,
   "metadata": {},
   "outputs": [
    {
     "name": "stdout",
     "output_type": "stream",
     "text": [
      "정렬전 --> [100, 97, 94, 91, 88, 85, 82, 79, 76, 73, 70, 67, 64, 61, 58, 55, 52, 49, 46, 43, 40, 37, 34, 31, 28, 25, 22, 19, 16, 13, 10, 7, 4]\n",
      "정렬후 --> [4, 7, 10, 13, 16, 19, 22, 25, 28, 31, 34, 37, 40, 43, 46, 49, 52, 55, 58, 61, 64, 67, 70, 73, 76, 79, 82, 85, 88, 91, 94, 97, 100]\n"
     ]
    }
   ],
   "source": [
    "# 변수선언\n",
    "before = [i for i in range(100, 1, -3)]\n",
    "after = []\n",
    "\n",
    "print('정렬전 -->', before)\n",
    "\n",
    "for _ in range(len(before)):\n",
    "    minPos = findMinIdx(before)\n",
    "    after.append(before[minPos])\n",
    "    del(before[minPos]) # 최소값을 계속 삭제\n",
    "print('정렬후 -->', after)"
   ]
  },
  {
   "attachments": {},
   "cell_type": "markdown",
   "metadata": {},
   "source": [
    "#### 개선된 선택정렬\n",
    "\n",
    "배열을 두개씩 만들 필요가 없고, 값 교환 swap기능을 학습"
   ]
  },
  {
   "cell_type": "code",
   "execution_count": 37,
   "metadata": {},
   "outputs": [
    {
     "name": "stdout",
     "output_type": "stream",
     "text": [
      "[3, 5, 7, 9]\n"
     ]
    }
   ],
   "source": [
    "def selectionSort(ary):\n",
    "    n = len(ary)\n",
    "    for i in range(n-1):\n",
    "        minIdx = i\n",
    "        for k in range(i+1, n):\n",
    "            if ary[minIdx] > ary[k]:\n",
    "                minIdx = k\n",
    "        # temp = ary[i]\n",
    "        # ary[i] = ary[minIdx]\n",
    "        # ary[minIdx] = temp\n",
    "        ary[i], ary[minIdx] = ary[minIdx], ary[i] # 위의 3줄과 같지만 신식인 방법이다.\n",
    "    \n",
    "    return ary\n",
    "dataAry = [9, 5, 7, 3]\n",
    "\n",
    "dataAry = selectionSort(dataAry)\n",
    "\n",
    "print(dataAry)\n"
   ]
  },
  {
   "attachments": {},
   "cell_type": "markdown",
   "metadata": {},
   "source": [
    "#### 삽입정렬 Insertion Sort\n",
    "- 자신의 삽입위치를 찾는 함수"
   ]
  },
  {
   "cell_type": "code",
   "execution_count": 41,
   "metadata": {},
   "outputs": [],
   "source": [
    "# 이미 정렬된 배열의 경우에 해당됨\n",
    "def findInsertIdx(ary, data):\n",
    "    findIdx = -1\n",
    "    for i in range(len(ary)):\n",
    "        if ary[i] > data:\n",
    "            findIdx = i\n",
    "            break\n",
    "    if findIdx == -1: # 데이타를 못 찾은 경우\n",
    "        return len(ary)\n",
    "    else:\n",
    "        return findIdx"
   ]
  },
  {
   "cell_type": "code",
   "execution_count": 48,
   "metadata": {},
   "outputs": [
    {
     "name": "stdout",
     "output_type": "stream",
     "text": [
      "50이 들어갈 위치 0\n",
      "55가 들어갈 위치 4\n"
     ]
    }
   ],
   "source": [
    "testAry = []\n",
    "print('50이 들어갈 위치',findInsertIdx(testAry, 50))\n",
    "testAry = [33,44,50, 11]\n",
    "print('55가 들어갈 위치', findInsertIdx(testAry, 55))"
   ]
  },
  {
   "attachments": {},
   "cell_type": "markdown",
   "metadata": {},
   "source": [
    "#### 삽입정렬 개선"
   ]
  },
  {
   "cell_type": "code",
   "execution_count": 49,
   "metadata": {},
   "outputs": [
    {
     "name": "stdout",
     "output_type": "stream",
     "text": [
      "[50, 105, 120, 150, 162, 168, 177, 188]\n"
     ]
    }
   ],
   "source": [
    "def insertionSort(ary):\n",
    "    n = len(ary)\n",
    "    for end in range(1, n):\n",
    "        for cur in range(end, 0, -1):\n",
    "            if ary[cur-1] > ary[cur]:\n",
    "                ary[cur-1], ary[cur] = ary[cur], ary[cur-1]\n",
    "                # ^튜플을 이용한 방식으로 파이썬에서는 가능, swap기능\n",
    "    return ary\n",
    "\n",
    "dataAry = [188,162,168,120,50,150,177,105]\n",
    "dataAry = insertionSort(dataAry)\n",
    "print(dataAry)"
   ]
  }
 ],
 "metadata": {
  "kernelspec": {
   "display_name": "Python 3",
   "language": "python",
   "name": "python3"
  },
  "language_info": {
   "codemirror_mode": {
    "name": "ipython",
    "version": 3
   },
   "file_extension": ".py",
   "mimetype": "text/x-python",
   "name": "python",
   "nbconvert_exporter": "python",
   "pygments_lexer": "ipython3",
   "version": "3.11.1"
  },
  "orig_nbformat": 4,
  "vscode": {
   "interpreter": {
    "hash": "a3d8f53f1429d27b792a3789224562ddd32c1395c9a9cfbb17b3c19c3b9a493d"
   }
  }
 },
 "nbformat": 4,
 "nbformat_minor": 2
}
